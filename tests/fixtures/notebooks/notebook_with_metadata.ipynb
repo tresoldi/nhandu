{
 "cells": [
  {
   "cell_type": "markdown",
   "metadata": {},
   "source": [
    "# Data Analysis Report"
   ]
  },
  {
   "cell_type": "code",
   "execution_count": null,
   "metadata": {},
   "outputs": [],
   "source": [
    "import numpy as np\n",
    "\n",
    "data = np.array([1, 2, 3, 4, 5])\n",
    "print(f\"Mean: {data.mean()}\")"
   ]
  }
 ],
 "metadata": {
  "title": "My Research Notebook",
  "authors": [
   {"name": "Alice Smith"},
   {"name": "Bob Jones"}
  ],
  "kernelspec": {
   "display_name": "Python 3",
   "language": "python",
   "name": "python3"
  },
  "language_info": {
   "name": "python",
   "version": "3.10.0"
  }
 },
 "nbformat": 4,
 "nbformat_minor": 4
}
